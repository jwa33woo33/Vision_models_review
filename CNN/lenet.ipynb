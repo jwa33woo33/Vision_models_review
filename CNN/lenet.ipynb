{
 "cells": [
  {
   "cell_type": "code",
   "execution_count": 1,
   "id": "5cad69e1-9a48-4c63-8e01-312061fb4707",
   "metadata": {},
   "outputs": [],
   "source": [
    "import torch\n",
    "import torch.nn as nn\n",
    "import torch.nn.functional as F\n",
    "from torchsummary import summary"
   ]
  },
  {
   "cell_type": "code",
   "execution_count": 2,
   "id": "b8927fea-3cdd-41d5-8cc8-455af65220e3",
   "metadata": {},
   "outputs": [],
   "source": [
    "\"\"\"\n",
    "Network 만들기\n",
    "\"\"\"\n",
    "\n",
    "# Input -> Convolution -> C1 -> Subsampling -> S2 -> Convolutions -> C3 -> Subsampling -> S4 \n",
    "# -> Full connection -> C5 -> Full connectino -> F6 -> Gaussian connection -> Output\n",
    "\n",
    "class LeNet(nn.Module):\n",
    "    def __init__(self):\n",
    "        super().__init__()\n",
    "        \n",
    "        # Layer1 C1: convolutional layer with 6 feature maps which is connected to 5x5 neighborhood in the input\n",
    "        self.c1 = nn.Conv2d(in_channels=1, out_channels=6, kernel_size=5, stride=1, padding=0)\n",
    "        \n",
    "        # Layer S2: Subsampling layer with 6 feature maps of size 14x14 ,2x2 neighborhoods\n",
    "\n",
    "        # Layer C3: Convolutional layer with 16 feature map. 5x5 neighborhoods\n",
    "        self.c3 = nn.Conv2d(in_channels=6, out_channels=16, kernel_size=5, stride=1, padding=0)\n",
    "        \n",
    "        # Layer S4: Subsampling layer with 16 feature maps of size 5x5. Each feature map is connected to a 2x2 neighborhood in the corresponding feature map in C3\n",
    "    \n",
    "        # Layer C5: Convolutional layer with 120 feature maps.\n",
    "        # Each unit is connected to a 5x5 neighborhood of S4's feature maps.\n",
    "        self.c5 = nn.Linear(16*4*4, 120)\n",
    "        \n",
    "        # Layer F6: Contains 84 units\n",
    "        self.f6 = nn.Linear(120, 84)\n",
    "        \n",
    "        # Output Layer: 84 input, yi output(여기서 MNIST는 y1, ... y10 총 10개)\n",
    "        self.output = nn.Linear(84, 10)\n",
    " \n",
    "    def forward(self, x):\n",
    "        x = self.c1(x)\n",
    "        x = F.max_pool2d(x, kernel_size=2) # S2포함\n",
    "        x = self.c3(x)\n",
    "        x = F.max_pool2d(x, kernel_size=2) # S4포함\n",
    "        x = x.view(-1, 16*4*4)\n",
    "        x = self.c5(x)\n",
    "        x = self.f6(x)\n",
    "        x = self.output(x)\n",
    "        return x\n"
   ]
  },
  {
   "cell_type": "code",
   "execution_count": 6,
   "id": "31789e5e-2f32-4f73-8968-4c1c94e537ce",
   "metadata": {},
   "outputs": [
    {
     "name": "stdout",
     "output_type": "stream",
     "text": [
      "=================================================================\n",
      "Layer (type:depth-idx)                   Param #\n",
      "=================================================================\n",
      "├─Conv2d: 1-1                            156\n",
      "├─Conv2d: 1-2                            2,416\n",
      "├─Linear: 1-3                            30,840\n",
      "├─Linear: 1-4                            10,164\n",
      "├─Linear: 1-5                            850\n",
      "=================================================================\n",
      "Total params: 44,426\n",
      "Trainable params: 44,426\n",
      "Non-trainable params: 0\n",
      "=================================================================\n",
      "=================================================================\n",
      "Layer (type:depth-idx)                   Param #\n",
      "=================================================================\n",
      "├─Conv2d: 1-1                            156\n",
      "├─Conv2d: 1-2                            2,416\n",
      "├─Linear: 1-3                            30,840\n",
      "├─Linear: 1-4                            10,164\n",
      "├─Linear: 1-5                            850\n",
      "=================================================================\n",
      "Total params: 44,426\n",
      "Trainable params: 44,426\n",
      "Non-trainable params: 0\n",
      "=================================================================\n"
     ]
    }
   ],
   "source": [
    "device = 'cuda'\n",
    "model = LeNet().to(device)\n",
    "print(summary(model, input_size=(1,28,28), device=device))"
   ]
  },
  {
   "cell_type": "code",
   "execution_count": null,
   "id": "1ca3ae9a-0e3c-4e68-b1c7-c5fe7b9c026b",
   "metadata": {},
   "outputs": [],
   "source": [
    "=================================================================\n",
    "Layer (type:depth-idx)                   Param #\n",
    "=================================================================\n",
    "├─Conv2d: 1-1                            156\n",
    "├─Conv2d: 1-2                            2,416\n",
    "├─Linear: 1-3                            30,840\n",
    "├─Linear: 1-4                            10,164\n",
    "├─Linear: 1-5                            850\n",
    "=================================================================\n",
    "Total params: 44,426\n",
    "Trainable params: 44,426\n",
    "Non-trainable params: 0\n",
    "=================================================================\n",
    "=================================================================\n",
    "Layer (type:depth-idx)                   Param #\n",
    "=================================================================\n",
    "├─Conv2d: 1-1                            156\n",
    "├─Conv2d: 1-2                            2,416\n",
    "├─Linear: 1-3                            30,840\n",
    "├─Linear: 1-4                            10,164\n",
    "├─Linear: 1-5                            850\n",
    "=================================================================\n",
    "Total params: 44,426\n",
    "Trainable params: 44,426\n",
    "Non-trainable params: 0"
   ]
  }
 ],
 "metadata": {
  "kernelspec": {
   "display_name": "Python 3",
   "language": "python",
   "name": "python3"
  },
  "language_info": {
   "codemirror_mode": {
    "name": "ipython",
    "version": 3
   },
   "file_extension": ".py",
   "mimetype": "text/x-python",
   "name": "python",
   "nbconvert_exporter": "python",
   "pygments_lexer": "ipython3",
   "version": "3.7.0"
  }
 },
 "nbformat": 4,
 "nbformat_minor": 5
}
